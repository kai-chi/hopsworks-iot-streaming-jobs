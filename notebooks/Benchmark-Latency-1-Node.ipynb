{
 "cells": [
  {
   "cell_type": "code",
   "execution_count": 1,
   "metadata": {
    "scrolled": true
   },
   "outputs": [
    {
     "name": "stdout",
     "output_type": "stream",
     "text": [
      "Starting Spark application\n"
     ]
    },
    {
     "data": {
      "text/html": [
       "<table>\n",
       "<tr><th>ID</th><th>YARN Application ID</th><th>Kind</th><th>State</th><th>Spark UI</th><th>Driver log</th><th>Current session?</th></tr><tr><td>35</td><td>application_1558772277326_0007</td><td>pyspark</td><td>idle</td><td><a target=\"_blank\" href=\"http://hopsworks0.logicalclocks.com:8088/proxy/application_1558772277326_0007/\">Link</a></td><td><a target=\"_blank\" href=\"http://hopsworks0.logicalclocks.com:8042/node/containerlogs/container_e02_1558772277326_0007_01_000001/pname__meb10000\">Link</a></td><td>✔</td></tr></table>"
      ],
      "text/plain": [
       "<IPython.core.display.HTML object>"
      ]
     },
     "metadata": {},
     "output_type": "display_data"
    },
    {
     "name": "stdout",
     "output_type": "stream",
     "text": [
      "SparkSession available as 'spark'.\n",
      "<pyspark.sql.session.SparkSession object at 0x7fdee72fc780>"
     ]
    }
   ],
   "source": [
    "from hops import hdfs\n",
    "from pyspark.sql import functions as F\n",
    "from pyspark.sql import Window\n",
    "from pyspark.sql.types import LongType\n",
    "spark"
   ]
  },
  {
   "cell_type": "code",
   "execution_count": 2,
   "metadata": {},
   "outputs": [
    {
     "name": "stdout",
     "output_type": "stream",
     "text": [
      "4187"
     ]
    }
   ],
   "source": [
    "df = spark.read.format(\"parquet\").load(hdfs.project_path() + \"Resources/iot-benchmarks/data/topic-lwm2m-3303-temperature\")\n",
    "\n",
    "df.cache().count()"
   ]
  },
  {
   "cell_type": "code",
   "execution_count": 3,
   "metadata": {},
   "outputs": [
    {
     "name": "stdout",
     "output_type": "stream",
     "text": [
      "root\n",
      " |-- measurement: struct (nullable = true)\n",
      " |    |-- timestamp: long (nullable = false)\n",
      " |    |-- endpointClientName: string (nullable = false)\n",
      " |    |-- instanceId: integer (nullable = false)\n",
      " |    |-- gatewayId: integer (nullable = false)\n",
      " |    |-- ipsoObject: struct (nullable = false)\n",
      " |    |    |-- sensorValue: double (nullable = false)\n",
      " |    |    |-- minMeasuredValue: double (nullable = true)\n",
      " |    |    |-- maxMeasuredValue: double (nullable = true)\n",
      " |    |    |-- minRangeValue: double (nullable = true)\n",
      " |    |    |-- maxRangeValue: double (nullable = true)\n",
      " |    |    |-- sensorUnits: string (nullable = true)\n",
      " |    |    |-- resetMinAndMaxMeasuredValues: boolean (nullable = true)\n",
      " |-- kafkaTimestamp: timestamp (nullable = true)\n",
      " |-- endpointClientName: string (nullable = true)"
     ]
    }
   ],
   "source": [
    "df.printSchema()"
   ]
  },
  {
   "cell_type": "code",
   "execution_count": 4,
   "metadata": {},
   "outputs": [
    {
     "name": "stdout",
     "output_type": "stream",
     "text": [
      "1809"
     ]
    }
   ],
   "source": [
    "timeFmt = \"yyyy-MM-dd HH:mm:ss.SSS\"\n",
    "sensDf = df \\\n",
    "    .select(F.to_timestamp(F.col('measurement.timestamp')/1000).alias('measurementTmp'), 'kafkaTimestamp', (F.col('measurement.timestamp')).alias('measurementTmpLong')) \\\n",
    "    .withColumn('kafkaTmpLong', F.substring_index('kafkaTimestamp', '.', -1).cast('float')) \\\n",
    "    .withColumn('kafkaTmpLong', F.when(F.col('kafkaTmpLong') < 100, F.col('kafkaTmpLong')*10).otherwise(F.col('kafkaTmpLong')).cast('long')) \\\n",
    "    .withColumn('kafkaTmpLong', (F.unix_timestamp('kafkaTimestamp', format=timeFmt)*1000 + F.col('kafkaTmpLong'))) \\\n",
    "    .withColumn(\"diffMilliseconds\", (F.col('kafkaTmpLong') - F.col('measurementTmpLong')))\n",
    "    \n",
    "\n",
    "dates = (\"2019-05-27\",  \"2019-05-28\")\n",
    "sensDf = sensDf.where(F.col('measurementTmp').between(*dates)).cache()\n",
    "\n",
    "sensDf.count()"
   ]
  },
  {
   "cell_type": "code",
   "execution_count": 5,
   "metadata": {
    "scrolled": true
   },
   "outputs": [
    {
     "name": "stdout",
     "output_type": "stream",
     "text": [
      "+-----------------------+-----------------------+------------------+-------------+----------------+\n",
      "|measurementTmp         |kafkaTimestamp         |measurementTmpLong|kafkaTmpLong |diffMilliseconds|\n",
      "+-----------------------+-----------------------+------------------+-------------+----------------+\n",
      "|2019-05-27 07:25:15.067|2019-05-27 07:25:15.428|1558941915067     |1558941915428|361             |\n",
      "|2019-05-27 07:25:17.068|2019-05-27 07:25:17.429|1558941917068     |1558941917429|361             |\n",
      "|2019-05-27 07:29:19.068|2019-05-27 07:29:19.429|1558942159068     |1558942159429|361             |\n",
      "|2019-05-27 07:29:21.068|2019-05-27 07:29:21.427|1558942161068     |1558942161427|359             |\n",
      "|2019-05-27 07:30:13.068|2019-05-27 07:30:13.428|1558942213068     |1558942213428|360             |\n",
      "+-----------------------+-----------------------+------------------+-------------+----------------+\n",
      "only showing top 5 rows"
     ]
    }
   ],
   "source": [
    "sensDf.show(5, False)"
   ]
  },
  {
   "cell_type": "code",
   "execution_count": 6,
   "metadata": {},
   "outputs": [
    {
     "name": "stdout",
     "output_type": "stream",
     "text": [
      "root\n",
      " |-- measurementTmp: timestamp (nullable = true)\n",
      " |-- kafkaTimestamp: timestamp (nullable = true)\n",
      " |-- measurementTmpLong: long (nullable = true)\n",
      " |-- kafkaTmpLong: long (nullable = true)\n",
      " |-- diffMilliseconds: long (nullable = true)"
     ]
    }
   ],
   "source": [
    "sensDf.printSchema()"
   ]
  },
  {
   "cell_type": "code",
   "execution_count": 7,
   "metadata": {
    "scrolled": true
   },
   "outputs": [
    {
     "name": "stdout",
     "output_type": "stream",
     "text": [
      "+---------------------+\n",
      "|avg(diffMilliseconds)|\n",
      "+---------------------+\n",
      "|   358.43725815367605|\n",
      "+---------------------+"
     ]
    }
   ],
   "source": [
    "sensDf.agg(F.avg(F.col(\"diffMilliseconds\"))).show()"
   ]
  },
  {
   "cell_type": "code",
   "execution_count": 8,
   "metadata": {},
   "outputs": [
    {
     "name": "stdout",
     "output_type": "stream",
     "text": [
      "+-----------------------+-----------------------+------------------+-------------+----------------+\n",
      "|measurementTmp         |kafkaTimestamp         |measurementTmpLong|kafkaTmpLong |diffMilliseconds|\n",
      "+-----------------------+-----------------------+------------------+-------------+----------------+\n",
      "|2019-05-27 07:17:09.075|2019-05-27 07:17:10.129|1558941429075     |1558941430129|1054            |\n",
      "|2019-05-27 07:17:11.071|2019-05-27 07:17:11.444|1558941431071     |1558941431444|373             |\n",
      "|2019-05-27 07:17:13.069|2019-05-27 07:17:13.455|1558941433069     |1558941433455|386             |\n",
      "|2019-05-27 07:17:15.069|2019-05-27 07:17:15.44 |1558941435069     |1558941435440|371             |\n",
      "|2019-05-27 07:17:17.07 |2019-05-27 07:17:17.445|1558941437070     |1558941437445|375             |\n",
      "|2019-05-27 07:17:19.069|2019-05-27 07:17:19.436|1558941439069     |1558941439436|367             |\n",
      "|2019-05-27 07:17:21.074|2019-05-27 07:17:21.445|1558941441074     |1558941441445|371             |\n",
      "|2019-05-27 07:17:23.07 |2019-05-27 07:17:23.44 |1558941443070     |1558941443440|370             |\n",
      "|2019-05-27 07:17:25.07 |2019-05-27 07:17:25.441|1558941445070     |1558941445441|371             |\n",
      "|2019-05-27 07:17:27.071|2019-05-27 07:17:27.444|1558941447071     |1558941447444|373             |\n",
      "+-----------------------+-----------------------+------------------+-------------+----------------+\n",
      "only showing top 10 rows"
     ]
    }
   ],
   "source": [
    "sensDf.sort(F.col('measurementTmp')).show(10, False)"
   ]
  },
  {
   "cell_type": "code",
   "execution_count": 9,
   "metadata": {},
   "outputs": [],
   "source": [
    "%%spark -o sensDf"
   ]
  },
  {
   "cell_type": "code",
   "execution_count": 10,
   "metadata": {
    "scrolled": false
   },
   "outputs": [
    {
     "name": "stderr",
     "output_type": "stream",
     "text": [
      "/srv/hops/anaconda/anaconda/envs/pname/lib/python3.6/site-packages/autovizwidget/widget/utils.py:50: FutureWarning:\n",
      "\n",
      "A future version of pandas will default to `skipna=True`. To silence this warning, pass `skipna=True|False` explicitly.\n",
      "\n"
     ]
    },
    {
     "data": {
      "application/vnd.jupyter.widget-view+json": {
       "model_id": "e607f9eb57ec42b5a73b087ceb9eabe7",
       "version_major": 2,
       "version_minor": 0
      },
      "text/plain": [
       "VBox(children=(HBox(children=(HTML(value='Type:'), Button(description='Table', layout=Layout(width='70px'), st…"
      ]
     },
     "metadata": {},
     "output_type": "display_data"
    },
    {
     "data": {
      "application/vnd.jupyter.widget-view+json": {
       "model_id": "5bed21f3c66d43fa88a1dad20be1b721",
       "version_major": 2,
       "version_minor": 0
      },
      "text/plain": [
       "Output()"
      ]
     },
     "metadata": {},
     "output_type": "display_data"
    }
   ],
   "source": [
    "%%local\n",
    "sensDf"
   ]
  }
 ],
 "metadata": {
  "kernelspec": {
   "display_name": "PySpark",
   "language": "",
   "name": "pysparkkernel"
  },
  "language_info": {
   "codemirror_mode": {
    "name": "python",
    "version": 2
   },
   "mimetype": "text/x-python",
   "name": "pyspark",
   "pygments_lexer": "python2"
  }
 },
 "nbformat": 4,
 "nbformat_minor": 2
}
