{
 "cells": [
  {
   "cell_type": "code",
   "execution_count": 1,
   "metadata": {},
   "outputs": [
    {
     "name": "stdout",
     "output_type": "stream",
     "text": [
      "Starting Spark application\n"
     ]
    },
    {
     "data": {
      "text/html": [
       "<table>\n",
       "<tr><th>ID</th><th>YARN Application ID</th><th>Kind</th><th>State</th><th>Spark UI</th><th>Driver log</th><th>Current session?</th></tr><tr><td>4</td><td>application_1559150799864_0009</td><td>pyspark</td><td>idle</td><td><a target=\"_blank\" href=\"http://hopsworks0.logicalclocks.com:8088/proxy/application_1559150799864_0009/\">Link</a></td><td><a target=\"_blank\" href=\"http://hopsworks0.logicalclocks.com:8042/node/containerlogs/container_e01_1559150799864_0009_01_000001/pname__meb10000\">Link</a></td><td>✔</td></tr></table>"
      ],
      "text/plain": [
       "<IPython.core.display.HTML object>"
      ]
     },
     "metadata": {},
     "output_type": "display_data"
    },
    {
     "name": "stdout",
     "output_type": "stream",
     "text": [
      "SparkSession available as 'spark'.\n",
      "<pyspark.sql.session.SparkSession object at 0x7f03f0c36f60>"
     ]
    }
   ],
   "source": [
    "from hops import hdfs\n",
    "from pyspark.sql import functions as F\n",
    "from pyspark.sql import Window\n",
    "from pyspark.sql.types import LongType\n",
    "spark"
   ]
  },
  {
   "cell_type": "code",
   "execution_count": 8,
   "metadata": {},
   "outputs": [
    {
     "name": "stdout",
     "output_type": "stream",
     "text": [
      "64"
     ]
    }
   ],
   "source": [
    "df = spark.read.format(\"parquet\").load(hdfs.project_path() + \"Resources/iot-benchmarks/data/topic-lwm2m-3303-temperature\")\n",
    "\n",
    "df.cache().count()"
   ]
  },
  {
   "cell_type": "code",
   "execution_count": 9,
   "metadata": {},
   "outputs": [
    {
     "name": "stdout",
     "output_type": "stream",
     "text": [
      "root\n",
      " |-- measurement: struct (nullable = true)\n",
      " |    |-- timestamp: long (nullable = false)\n",
      " |    |-- endpointClientName: string (nullable = false)\n",
      " |    |-- instanceId: integer (nullable = false)\n",
      " |    |-- gatewayId: integer (nullable = false)\n",
      " |    |-- ipsoObject: struct (nullable = false)\n",
      " |    |    |-- sensorValue: double (nullable = false)\n",
      " |    |    |-- minMeasuredValue: double (nullable = true)\n",
      " |    |    |-- maxMeasuredValue: double (nullable = true)\n",
      " |    |    |-- minRangeValue: double (nullable = true)\n",
      " |    |    |-- maxRangeValue: double (nullable = true)\n",
      " |    |    |-- sensorUnits: string (nullable = true)\n",
      " |    |    |-- resetMinAndMaxMeasuredValues: boolean (nullable = true)\n",
      " |-- kafkaTimestamp: timestamp (nullable = true)\n",
      " |-- endpointClientName: string (nullable = true)"
     ]
    }
   ],
   "source": [
    "df.printSchema()"
   ]
  },
  {
   "cell_type": "code",
   "execution_count": 12,
   "metadata": {},
   "outputs": [
    {
     "name": "stdout",
     "output_type": "stream",
     "text": [
      "+-------------+------------------+-----------+---------+\n",
      "|timestamp    |endpointClientName|sensorValue|gatewayId|\n",
      "+-------------+------------------+-----------+---------+\n",
      "|1559223487038|node-failure-test |21.0       |11000    |\n",
      "|1559223489029|node-failure-test |22.0       |11000    |\n",
      "|1559223491032|node-failure-test |23.0       |11000    |\n",
      "|1559223493031|node-failure-test |24.0       |11000    |\n",
      "|1559223495030|node-failure-test |25.0       |11000    |\n",
      "|1559223497028|node-failure-test |26.0       |11000    |\n",
      "|1559223513035|node-failure-test |34.0       |11000    |\n",
      "|1559223515032|node-failure-test |35.0       |11000    |\n",
      "|1559223517028|node-failure-test |36.0       |11000    |\n",
      "|1559223519031|node-failure-test |37.0       |11000    |\n",
      "|1559223521030|node-failure-test |38.0       |11000    |\n",
      "|1559223523028|node-failure-test |39.0       |11000    |\n",
      "|1559223525029|node-failure-test |40.0       |11000    |\n",
      "|1559223573033|node-failure-test |64.0       |11000    |\n",
      "|1559223575030|node-failure-test |65.0       |11000    |\n",
      "|1559223577033|node-failure-test |66.0       |11000    |\n",
      "|1559223579031|node-failure-test |67.0       |11000    |\n",
      "|1559223581030|node-failure-test |68.0       |11000    |\n",
      "|1559223583028|node-failure-test |69.0       |11000    |\n",
      "|1559223585031|node-failure-test |70.0       |11000    |\n",
      "|1559223587030|node-failure-test |71.0       |11000    |\n",
      "|1559223589030|node-failure-test |72.0       |11000    |\n",
      "|1559223591030|node-failure-test |73.0       |11000    |\n",
      "|1559223593029|node-failure-test |74.0       |11000    |\n",
      "|1559223595029|node-failure-test |75.0       |11000    |\n",
      "|1559223597029|node-failure-test |76.0       |11000    |\n",
      "|1559223599027|node-failure-test |77.0       |11000    |\n",
      "|1559223601028|node-failure-test |78.0       |11000    |\n",
      "|1559223603029|node-failure-test |79.0       |11000    |\n",
      "|1559223605029|node-failure-test |80.0       |11000    |\n",
      "|1559223607028|node-failure-test |81.0       |11000    |\n",
      "|1559223609031|node-failure-test |82.0       |11000    |\n",
      "|1559223611028|node-failure-test |83.0       |11000    |\n",
      "|1559223613027|node-failure-test |84.0       |11000    |\n",
      "|1559223615029|node-failure-test |85.0       |11000    |\n",
      "|1559223617028|node-failure-test |86.0       |11000    |\n",
      "|1559223619029|node-failure-test |87.0       |11000    |\n",
      "|1559223621029|node-failure-test |88.0       |11000    |\n",
      "|1559223623029|node-failure-test |89.0       |11000    |\n",
      "|1559223625030|node-failure-test |90.0       |11000    |\n",
      "|1559223627029|node-failure-test |91.0       |11000    |\n",
      "|1559223629029|node-failure-test |92.0       |11000    |\n",
      "|1559223631030|node-failure-test |93.0       |11000    |\n",
      "|1559223633029|node-failure-test |94.0       |11000    |\n",
      "|1559223635029|node-failure-test |95.0       |11000    |\n",
      "|1559223637029|node-failure-test |96.0       |11000    |\n",
      "|1559223639028|node-failure-test |97.0       |11000    |\n",
      "|1559223641028|node-failure-test |98.0       |11000    |\n",
      "|1559223643027|node-failure-test |99.0       |11000    |\n",
      "+-------------+------------------+-----------+---------+"
     ]
    }
   ],
   "source": [
    "df.filter(F.col('endpointClientName') == 'node-failure-test') \\\n",
    "  .select(F.col('measurement.timestamp'), \\\n",
    "          F.col('endpointClientName'), \\\n",
    "          F.col('measurement.ipsoObject.sensorValue'), \\\n",
    "          F.col('measurement.gatewayId')) \\\n",
    "  .sort(F.col('timestamp')) \\\n",
    "  .show(100, False)"
   ]
  },
  {
   "cell_type": "code",
   "execution_count": null,
   "metadata": {},
   "outputs": [],
   "source": []
  }
 ],
 "metadata": {
  "kernelspec": {
   "display_name": "PySpark",
   "language": "",
   "name": "pysparkkernel"
  },
  "language_info": {
   "codemirror_mode": {
    "name": "python",
    "version": 2
   },
   "mimetype": "text/x-python",
   "name": "pyspark",
   "pygments_lexer": "python2"
  }
 },
 "nbformat": 4,
 "nbformat_minor": 2
}
