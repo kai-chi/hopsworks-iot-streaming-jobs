{
 "cells": [
  {
   "cell_type": "code",
   "execution_count": 1,
   "metadata": {},
   "outputs": [
    {
     "name": "stdout",
     "output_type": "stream",
     "text": [
      "Starting Spark application\n"
     ]
    },
    {
     "data": {
      "text/html": [
       "<table>\n",
       "<tr><th>ID</th><th>YARN Application ID</th><th>Kind</th><th>State</th><th>Spark UI</th><th>Driver log</th><th>Current session?</th></tr><tr><td>9</td><td>application_1559316644877_0006</td><td>pyspark</td><td>idle</td><td><a target=\"_blank\" href=\"http://hopsworks0.logicalclocks.com:8088/proxy/application_1559316644877_0006/\">Link</a></td><td><a target=\"_blank\" href=\"http://hopsworks0.logicalclocks.com:8042/node/containerlogs/container_e02_1559316644877_0006_01_000001/pname__meb10000\">Link</a></td><td>✔</td></tr></table>"
      ],
      "text/plain": [
       "<IPython.core.display.HTML object>"
      ]
     },
     "metadata": {},
     "output_type": "display_data"
    },
    {
     "name": "stdout",
     "output_type": "stream",
     "text": [
      "SparkSession available as 'spark'.\n",
      "<pyspark.sql.session.SparkSession object at 0x7fca07f08f60>"
     ]
    }
   ],
   "source": [
    "from hops import hdfs\n",
    "from pyspark.sql import functions as F\n",
    "from pyspark.sql import Window\n",
    "from pyspark.sql.types import LongType\n",
    "spark"
   ]
  },
  {
   "cell_type": "code",
   "execution_count": 2,
   "metadata": {
    "scrolled": true
   },
   "outputs": [
    {
     "name": "stdout",
     "output_type": "stream",
     "text": [
      "6033"
     ]
    }
   ],
   "source": [
    "df = spark \\\n",
    "    .read \\\n",
    "    .format(\"parquet\") \\\n",
    "    .load(hdfs.project_path() + \"Resources/iot-benchmarks/data/topic-lwm2m-3303-temperature\") \\\n",
    "    .filter(F.col('endpointClientName').contains('node-latency-20-'))\n",
    "\n",
    "df.cache().count()"
   ]
  },
  {
   "cell_type": "code",
   "execution_count": 3,
   "metadata": {},
   "outputs": [
    {
     "name": "stdout",
     "output_type": "stream",
     "text": [
      "root\n",
      " |-- measurement: struct (nullable = true)\n",
      " |    |-- timestamp: long (nullable = false)\n",
      " |    |-- endpointClientName: string (nullable = false)\n",
      " |    |-- instanceId: integer (nullable = false)\n",
      " |    |-- gatewayId: integer (nullable = false)\n",
      " |    |-- ipsoObject: struct (nullable = false)\n",
      " |    |    |-- sensorValue: double (nullable = false)\n",
      " |    |    |-- minMeasuredValue: double (nullable = true)\n",
      " |    |    |-- maxMeasuredValue: double (nullable = true)\n",
      " |    |    |-- minRangeValue: double (nullable = true)\n",
      " |    |    |-- maxRangeValue: double (nullable = true)\n",
      " |    |    |-- sensorUnits: string (nullable = true)\n",
      " |    |    |-- resetMinAndMaxMeasuredValues: boolean (nullable = true)\n",
      " |-- kafkaTimestamp: timestamp (nullable = true)\n",
      " |-- endpointClientName: string (nullable = true)"
     ]
    }
   ],
   "source": [
    "df.printSchema()"
   ]
  },
  {
   "cell_type": "code",
   "execution_count": 4,
   "metadata": {},
   "outputs": [],
   "source": [
    "timeFmt = \"yyyy-MM-dd HH:mm:ss.SSS\"\n",
    "sensDf = df \\\n",
    "    .select(F.to_timestamp(F.col('measurement.timestamp')/1000).alias('measurementTmp'), \\\n",
    "            'kafkaTimestamp', \\\n",
    "            (F.col('measurement.timestamp')).alias('measurementTmpLong'), \\\n",
    "            'endpointClientName') \\\n",
    "    .withColumn('kafkaTmpLong', F.substring_index('kafkaTimestamp', '.', -1).cast('float')) \\\n",
    "    .withColumn('kafkaTmpLong', F.when(F.col('kafkaTmpLong') < 100, F.col('kafkaTmpLong')*10).otherwise(F.col('kafkaTmpLong')).cast('long')) \\\n",
    "    .withColumn('kafkaTmpLong', (F.unix_timestamp('kafkaTimestamp', format=timeFmt)*1000 + F.col('kafkaTmpLong'))) \\\n",
    "    .withColumn(\"diffMilliseconds\", (F.col('kafkaTmpLong') - F.col('measurementTmpLong')))\n",
    "    "
   ]
  },
  {
   "cell_type": "code",
   "execution_count": 5,
   "metadata": {},
   "outputs": [
    {
     "name": "stdout",
     "output_type": "stream",
     "text": [
      "+-----------------------+-----------------------+------------------+------------------+-------------+----------------+\n",
      "|measurementTmp         |kafkaTimestamp         |measurementTmpLong|endpointClientName|kafkaTmpLong |diffMilliseconds|\n",
      "+-----------------------+-----------------------+------------------+------------------+-------------+----------------+\n",
      "|2019-06-03 17:13:32.753|2019-06-03 17:13:32.767|1559582012753     |node-latency-20-3 |1559582012767|14              |\n",
      "|2019-06-03 17:13:34.749|2019-06-03 17:13:34.764|1559582014749     |node-latency-20-3 |1559582014764|15              |\n",
      "|2019-06-03 17:13:36.749|2019-06-03 17:13:36.764|1559582016749     |node-latency-20-3 |1559582016764|15              |\n",
      "|2019-06-03 17:13:38.749|2019-06-03 17:13:38.764|1559582018749     |node-latency-20-3 |1559582018764|15              |\n",
      "|2019-06-03 17:13:40.749|2019-06-03 17:13:40.765|1559582020749     |node-latency-20-3 |1559582020765|16              |\n",
      "+-----------------------+-----------------------+------------------+------------------+-------------+----------------+\n",
      "only showing top 5 rows"
     ]
    }
   ],
   "source": [
    "sensDf.show(5, False)"
   ]
  },
  {
   "cell_type": "code",
   "execution_count": 6,
   "metadata": {},
   "outputs": [
    {
     "name": "stdout",
     "output_type": "stream",
     "text": [
      "root\n",
      " |-- measurementTmp: timestamp (nullable = true)\n",
      " |-- kafkaTimestamp: timestamp (nullable = true)\n",
      " |-- measurementTmpLong: long (nullable = true)\n",
      " |-- endpointClientName: string (nullable = true)\n",
      " |-- kafkaTmpLong: long (nullable = true)\n",
      " |-- diffMilliseconds: long (nullable = true)"
     ]
    }
   ],
   "source": [
    "sensDf.printSchema()"
   ]
  },
  {
   "cell_type": "code",
   "execution_count": 7,
   "metadata": {},
   "outputs": [
    {
     "name": "stdout",
     "output_type": "stream",
     "text": [
      "+---------------------+\n",
      "|avg(diffMilliseconds)|\n",
      "+---------------------+\n",
      "|    26.21316094811868|\n",
      "+---------------------+"
     ]
    }
   ],
   "source": [
    "sensDf.agg(F.avg(F.col(\"diffMilliseconds\"))).show()"
   ]
  },
  {
   "cell_type": "code",
   "execution_count": 8,
   "metadata": {
    "scrolled": true
   },
   "outputs": [
    {
     "name": "stdout",
     "output_type": "stream",
     "text": [
      "+-----------------------+-----------------------+------------------+------------------+-------------+----------------+\n",
      "|measurementTmp         |kafkaTimestamp         |measurementTmpLong|endpointClientName|kafkaTmpLong |diffMilliseconds|\n",
      "+-----------------------+-----------------------+------------------+------------------+-------------+----------------+\n",
      "|2019-06-03 17:13:58.025|2019-06-03 17:13:58.044|1559582038025     |node-latency-20-14|1559582038440|415             |\n",
      "|2019-06-03 17:13:36.023|2019-06-03 17:13:36.038|1559582016023     |node-latency-20-14|1559582016380|357             |\n",
      "|2019-06-03 17:16:40.022|2019-06-03 17:16:40.037|1559582200022     |node-latency-20-14|1559582200370|348             |\n",
      "|2019-06-03 17:15:20.022|2019-06-03 17:15:20.037|1559582120022     |node-latency-20-14|1559582120370|348             |\n",
      "|2019-06-03 17:15:08.022|2019-06-03 17:15:08.037|1559582108022     |node-latency-20-14|1559582108370|348             |\n",
      "|2019-06-03 17:13:50.023|2019-06-03 17:13:50.037|1559582030023     |node-latency-20-14|1559582030370|347             |\n",
      "|2019-06-03 17:13:34.026|2019-06-03 17:13:34.037|1559582014026     |node-latency-20-14|1559582014370|344             |\n",
      "|2019-06-03 17:22:22.021|2019-06-03 17:22:22.036|1559582542021     |node-latency-20-14|1559582542360|339             |\n",
      "|2019-06-03 17:22:26.021|2019-06-03 17:22:26.036|1559582546021     |node-latency-20-14|1559582546360|339             |\n",
      "|2019-06-03 17:22:16.021|2019-06-03 17:22:16.036|1559582536021     |node-latency-20-14|1559582536360|339             |\n",
      "+-----------------------+-----------------------+------------------+------------------+-------------+----------------+\n",
      "only showing top 10 rows"
     ]
    }
   ],
   "source": [
    "sensDf.sort(F.col('diffMilliseconds').desc()).show(10, False)"
   ]
  },
  {
   "cell_type": "code",
   "execution_count": 9,
   "metadata": {},
   "outputs": [],
   "source": [
    "%%spark -o sensDf"
   ]
  },
  {
   "cell_type": "code",
   "execution_count": 10,
   "metadata": {},
   "outputs": [
    {
     "name": "stderr",
     "output_type": "stream",
     "text": [
      "/srv/hops/anaconda/anaconda/envs/python36/lib/python3.6/site-packages/autovizwidget/widget/utils.py:50: FutureWarning:\n",
      "\n",
      "A future version of pandas will default to `skipna=True`. To silence this warning, pass `skipna=True|False` explicitly.\n",
      "\n"
     ]
    },
    {
     "data": {
      "application/vnd.jupyter.widget-view+json": {
       "model_id": "8ab3bf619e074d339a3be12da9966040",
       "version_major": 2,
       "version_minor": 0
      },
      "text/plain": [
       "VBox(children=(HBox(children=(HTML(value='Type:'), Button(description='Table', layout=Layout(width='70px'), st…"
      ]
     },
     "metadata": {},
     "output_type": "display_data"
    },
    {
     "data": {
      "application/vnd.jupyter.widget-view+json": {
       "model_id": "188355baeca44ee280ffaca32464dac3",
       "version_major": 2,
       "version_minor": 0
      },
      "text/plain": [
       "Output()"
      ]
     },
     "metadata": {},
     "output_type": "display_data"
    }
   ],
   "source": [
    "%%local\n",
    "sensDf"
   ]
  },
  {
   "cell_type": "code",
   "execution_count": null,
   "metadata": {},
   "outputs": [],
   "source": []
  }
 ],
 "metadata": {
  "kernelspec": {
   "display_name": "PySpark",
   "language": "",
   "name": "pysparkkernel"
  },
  "language_info": {
   "codemirror_mode": {
    "name": "python",
    "version": 2
   },
   "mimetype": "text/x-python",
   "name": "pyspark",
   "pygments_lexer": "python2"
  }
 },
 "nbformat": 4,
 "nbformat_minor": 2
}
