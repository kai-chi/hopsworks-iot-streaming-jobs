{
 "cells": [
  {
   "cell_type": "code",
   "execution_count": 1,
   "metadata": {},
   "outputs": [
    {
     "name": "stdout",
     "output_type": "stream",
     "text": [
      "Starting Spark application\n"
     ]
    },
    {
     "data": {
      "text/html": [
       "<table>\n",
       "<tr><th>ID</th><th>YARN Application ID</th><th>Kind</th><th>State</th><th>Spark UI</th><th>Driver log</th><th>Current session?</th></tr><tr><td>4</td><td>application_1559150799864_0009</td><td>pyspark</td><td>idle</td><td><a target=\"_blank\" href=\"http://hopsworks0.logicalclocks.com:8088/proxy/application_1559150799864_0009/\">Link</a></td><td><a target=\"_blank\" href=\"http://hopsworks0.logicalclocks.com:8042/node/containerlogs/container_e01_1559150799864_0009_01_000001/pname__meb10000\">Link</a></td><td>✔</td></tr></table>"
      ],
      "text/plain": [
       "<IPython.core.display.HTML object>"
      ]
     },
     "metadata": {},
     "output_type": "display_data"
    },
    {
     "name": "stdout",
     "output_type": "stream",
     "text": [
      "SparkSession available as 'spark'.\n",
      "<pyspark.sql.session.SparkSession object at 0x7f03f0c36f60>"
     ]
    }
   ],
   "source": [
    "from hops import hdfs\n",
    "from pyspark.sql import functions as F\n",
    "from pyspark.sql import Window\n",
    "from pyspark.sql.types import LongType\n",
    "spark"
   ]
  },
  {
   "cell_type": "code",
   "execution_count": 2,
   "metadata": {},
   "outputs": [
    {
     "name": "stdout",
     "output_type": "stream",
     "text": [
      "15"
     ]
    }
   ],
   "source": [
    "df = spark.read.format(\"parquet\").load(hdfs.project_path() + \"Resources/iot-benchmarks/data/topic-lwm2m-3303-temperature\")\n",
    "\n",
    "df.cache().count()"
   ]
  },
  {
   "cell_type": "code",
   "execution_count": 3,
   "metadata": {},
   "outputs": [
    {
     "name": "stdout",
     "output_type": "stream",
     "text": [
      "root\n",
      " |-- measurement: struct (nullable = true)\n",
      " |    |-- timestamp: long (nullable = false)\n",
      " |    |-- endpointClientName: string (nullable = false)\n",
      " |    |-- instanceId: integer (nullable = false)\n",
      " |    |-- gatewayId: integer (nullable = false)\n",
      " |    |-- ipsoObject: struct (nullable = false)\n",
      " |    |    |-- sensorValue: double (nullable = false)\n",
      " |    |    |-- minMeasuredValue: double (nullable = true)\n",
      " |    |    |-- maxMeasuredValue: double (nullable = true)\n",
      " |    |    |-- minRangeValue: double (nullable = true)\n",
      " |    |    |-- maxRangeValue: double (nullable = true)\n",
      " |    |    |-- sensorUnits: string (nullable = true)\n",
      " |    |    |-- resetMinAndMaxMeasuredValues: boolean (nullable = true)\n",
      " |-- kafkaTimestamp: timestamp (nullable = true)\n",
      " |-- endpointClientName: string (nullable = true)"
     ]
    }
   ],
   "source": [
    "df.printSchema()"
   ]
  },
  {
   "cell_type": "code",
   "execution_count": 6,
   "metadata": {},
   "outputs": [
    {
     "name": "stdout",
     "output_type": "stream",
     "text": [
      "+-------------+------------------+-----------+---------+\n",
      "|timestamp    |endpointClientName|sensorValue|gatewayId|\n",
      "+-------------+------------------+-----------+---------+\n",
      "|1559219027856|node-test-device  |19.3       |11000    |\n",
      "|1559219029857|node-test-device  |19.5       |11000    |\n",
      "|1559219023865|node-test-device  |19.5       |11000    |\n",
      "|1559219025859|node-test-device  |18.5       |11000    |\n",
      "|1559219031861|node-test-device  |20.4       |11000    |\n",
      "|1559219033859|node-test-device  |20.0       |11000    |\n",
      "|1559219035857|node-test-device  |20.0       |11000    |\n",
      "|1559219037859|node-test-device  |20.6       |11000    |\n",
      "|1559219043575|node-test-device  |20.8       |11001    |\n",
      "|1559219045566|node-test-device  |21.1       |11001    |\n",
      "|1559219047566|node-test-device  |21.5       |11001    |\n",
      "|1559219049567|node-test-device  |22.2       |11001    |\n",
      "|1559219051565|node-test-device  |21.9       |11001    |\n",
      "|1559219053567|node-test-device  |21.7       |11001    |\n",
      "|1559219055566|node-test-device  |22.0       |11001    |\n",
      "+-------------+------------------+-----------+---------+"
     ]
    }
   ],
   "source": [
    "df.select(F.col('measurement.timestamp'), \\\n",
    "          F.col('endpointClientName'), \\\n",
    "          F.col('measurement.ipsoObject.sensorValue'), \\\n",
    "          F.col('measurement.gatewayId'))\\\n",
    "  .show(15, False)"
   ]
  },
  {
   "cell_type": "code",
   "execution_count": null,
   "metadata": {},
   "outputs": [],
   "source": []
  }
 ],
 "metadata": {
  "kernelspec": {
   "display_name": "PySpark",
   "language": "",
   "name": "pysparkkernel"
  },
  "language_info": {
   "codemirror_mode": {
    "name": "python",
    "version": 2
   },
   "mimetype": "text/x-python",
   "name": "pyspark",
   "pygments_lexer": "python2"
  }
 },
 "nbformat": 4,
 "nbformat_minor": 2
}
