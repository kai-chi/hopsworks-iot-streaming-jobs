{
 "cells": [
  {
   "cell_type": "code",
   "execution_count": 1,
   "metadata": {},
   "outputs": [
    {
     "name": "stdout",
     "output_type": "stream",
     "text": [
      "Starting Spark application\n"
     ]
    },
    {
     "data": {
      "text/html": [
       "<table>\n",
       "<tr><th>ID</th><th>YARN Application ID</th><th>Kind</th><th>State</th><th>Spark UI</th><th>Driver log</th><th>Current session?</th></tr><tr><td>1</td><td>application_1559755371379_0005</td><td>pyspark</td><td>idle</td><td><a target=\"_blank\" href=\"http://hopsworks0.logicalclocks.com:8088/proxy/application_1559755371379_0005/\">Link</a></td><td><a target=\"_blank\" href=\"http://hopsworks0.logicalclocks.com:8042/node/containerlogs/container_e01_1559755371379_0005_01_000001/p1__meb10000\">Link</a></td><td>✔</td></tr></table>"
      ],
      "text/plain": [
       "<IPython.core.display.HTML object>"
      ]
     },
     "metadata": {},
     "output_type": "display_data"
    },
    {
     "name": "stdout",
     "output_type": "stream",
     "text": [
      "SparkSession available as 'spark'.\n",
      "<pyspark.sql.session.SparkSession object at 0x7fd424fb6f60>"
     ]
    }
   ],
   "source": [
    "from hops import hdfs\n",
    "from pyspark.sql import functions as F\n",
    "from pyspark.sql import Window\n",
    "from pyspark.sql.types import LongType\n",
    "spark"
   ]
  },
  {
   "cell_type": "code",
   "execution_count": 2,
   "metadata": {},
   "outputs": [
    {
     "name": "stdout",
     "output_type": "stream",
     "text": [
      "17076"
     ]
    }
   ],
   "source": [
    "    df = spark \\\n",
    "        .read \\\n",
    "        .format(\"parquet\") \\\n",
    "        .load(hdfs.project_path() + \"Resources/iot-benchmarks/data/topic-lwm2m-3303-temperature\") \\\n",
    "        .filter(F.col('endpointClientName').contains('node-latency-rem-20'))\n",
    "\n",
    "    df.cache().count()"
   ]
  },
  {
   "cell_type": "code",
   "execution_count": 3,
   "metadata": {},
   "outputs": [
    {
     "name": "stdout",
     "output_type": "stream",
     "text": [
      "root\n",
      " |-- measurement: struct (nullable = true)\n",
      " |    |-- timestamp: long (nullable = false)\n",
      " |    |-- endpointClientName: string (nullable = false)\n",
      " |    |-- instanceId: integer (nullable = false)\n",
      " |    |-- gatewayId: integer (nullable = false)\n",
      " |    |-- ipsoObject: struct (nullable = false)\n",
      " |    |    |-- sensorValue: double (nullable = false)\n",
      " |    |    |-- minMeasuredValue: double (nullable = true)\n",
      " |    |    |-- maxMeasuredValue: double (nullable = true)\n",
      " |    |    |-- minRangeValue: double (nullable = true)\n",
      " |    |    |-- maxRangeValue: double (nullable = true)\n",
      " |    |    |-- sensorUnits: string (nullable = true)\n",
      " |    |    |-- resetMinAndMaxMeasuredValues: boolean (nullable = true)\n",
      " |-- kafkaTimestamp: timestamp (nullable = true)\n",
      " |-- endpointClientName: string (nullable = true)"
     ]
    }
   ],
   "source": [
    "df.printSchema()"
   ]
  },
  {
   "cell_type": "code",
   "execution_count": 28,
   "metadata": {},
   "outputs": [],
   "source": [
    "timeFmt = \"yyyy-MM-dd HH:mm:ss.SSS\"\n",
    "sensDf = df \\\n",
    "    .select(F.to_timestamp(F.col('measurement.timestamp')/1000).alias('measurementTmp'), \\\n",
    "            'kafkaTimestamp', \\\n",
    "            (F.col('measurement.timestamp')).alias('measurementTmpLong'), \\\n",
    "            'endpointClientName') \\\n",
    "    .withColumn('kafkaTmpLong', F.substring_index('kafkaTimestamp', '.', -1).cast('float')) \\\n",
    "    .withColumn('kafkaTmpLong', F.when(F.col('kafkaTmpLong') < 10, F.col('kafkaTmpLong')*100).otherwise(F.col('kafkaTmpLong')).cast('long')) \\\n",
    "    .withColumn('kafkaTmpLong', F.when(F.col('kafkaTmpLong') < 100, F.col('kafkaTmpLong')*10).otherwise(F.col('kafkaTmpLong')).cast('long')) \\\n",
    "    .withColumn('kafkaTmpLong', (F.unix_timestamp('kafkaTimestamp', format=timeFmt)*1000 + F.col('kafkaTmpLong'))) \\\n",
    "    .withColumn(\"diffMilliseconds\", (F.col('kafkaTmpLong') - F.col('measurementTmpLong')))\n",
    "    "
   ]
  },
  {
   "cell_type": "code",
   "execution_count": 29,
   "metadata": {},
   "outputs": [
    {
     "name": "stdout",
     "output_type": "stream",
     "text": [
      "+-----------------------+-----------------------+------------------+---------------------+-------------+----------------+\n",
      "|measurementTmp         |kafkaTimestamp         |measurementTmpLong|endpointClientName   |kafkaTmpLong |diffMilliseconds|\n",
      "+-----------------------+-----------------------+------------------+---------------------+-------------+----------------+\n",
      "|2019-06-06 12:45:12.39 |2019-06-06 12:45:15.713|1559825112390     |node-latency-rem-20-2|1559825115713|3323            |\n",
      "|2019-06-06 12:45:14.388|2019-06-06 12:45:17.102|1559825114388     |node-latency-rem-20-2|1559825117102|2714            |\n",
      "|2019-06-06 12:45:16.389|2019-06-06 12:45:18.473|1559825116389     |node-latency-rem-20-2|1559825118473|2084            |\n",
      "|2019-06-06 12:45:18.389|2019-06-06 12:45:19.946|1559825118389     |node-latency-rem-20-2|1559825119946|1557            |\n",
      "|2019-06-06 12:45:20.388|2019-06-06 12:45:21.571|1559825120388     |node-latency-rem-20-2|1559825121571|1183            |\n",
      "+-----------------------+-----------------------+------------------+---------------------+-------------+----------------+\n",
      "only showing top 5 rows"
     ]
    }
   ],
   "source": [
    "sensDf.show(5, False)"
   ]
  },
  {
   "cell_type": "code",
   "execution_count": 30,
   "metadata": {},
   "outputs": [
    {
     "name": "stdout",
     "output_type": "stream",
     "text": [
      "root\n",
      " |-- measurementTmp: timestamp (nullable = true)\n",
      " |-- kafkaTimestamp: timestamp (nullable = true)\n",
      " |-- measurementTmpLong: long (nullable = true)\n",
      " |-- endpointClientName: string (nullable = true)\n",
      " |-- kafkaTmpLong: long (nullable = true)\n",
      " |-- diffMilliseconds: long (nullable = true)"
     ]
    }
   ],
   "source": [
    "sensDf.printSchema()"
   ]
  },
  {
   "cell_type": "code",
   "execution_count": 31,
   "metadata": {},
   "outputs": [
    {
     "name": "stdout",
     "output_type": "stream",
     "text": [
      "+---------------------+\n",
      "|avg(diffMilliseconds)|\n",
      "+---------------------+\n",
      "|   106.40114780979152|\n",
      "+---------------------+"
     ]
    }
   ],
   "source": [
    "sensDf.agg(F.avg(F.col('diffMilliseconds'))).show()"
   ]
  },
  {
   "cell_type": "code",
   "execution_count": 32,
   "metadata": {},
   "outputs": [
    {
     "name": "stdout",
     "output_type": "stream",
     "text": [
      "+-----------------------+-----------------------+------------------+---------------------+-------------+----------------+\n",
      "|measurementTmp         |kafkaTimestamp         |measurementTmpLong|endpointClientName   |kafkaTmpLong |diffMilliseconds|\n",
      "+-----------------------+-----------------------+------------------+---------------------+-------------+----------------+\n",
      "|2019-06-06 12:45:13.114|2019-06-06 12:45:16.092|1559825113114     |node-latency-rem-20-4|1559825116920|3806            |\n",
      "|2019-06-06 12:45:12.066|2019-06-06 12:45:15.713|1559825112066     |node-latency-rem-20-1|1559825115713|3647            |\n",
      "|2019-06-06 12:45:12.39 |2019-06-06 12:45:15.713|1559825112390     |node-latency-rem-20-2|1559825115713|3323            |\n",
      "|2019-06-06 12:45:13.449|2019-06-06 12:45:16.469|1559825113449     |node-latency-rem-20-5|1559825116469|3020            |\n",
      "|2019-06-06 12:45:12.71 |2019-06-06 12:45:15.703|1559825112710     |node-latency-rem-20-3|1559825115703|2993            |\n",
      "|2019-06-06 12:45:13.737|2019-06-06 12:45:16.599|1559825113737     |node-latency-rem-20-6|1559825116599|2862            |\n",
      "|2019-06-06 12:45:13.748|2019-06-06 12:45:16.6  |1559825113748     |node-latency-rem-20-7|1559825116600|2852            |\n",
      "|2019-06-06 12:45:14.056|2019-06-06 12:45:16.85 |1559825114056     |node-latency-rem-20-1|1559825116850|2794            |\n",
      "|2019-06-06 12:45:14.147|2019-06-06 12:45:16.929|1559825114147     |node-latency-rem-20-8|1559825116929|2782            |\n",
      "|2019-06-06 12:45:14.388|2019-06-06 12:45:17.102|1559825114388     |node-latency-rem-20-2|1559825117102|2714            |\n",
      "+-----------------------+-----------------------+------------------+---------------------+-------------+----------------+\n",
      "only showing top 10 rows"
     ]
    }
   ],
   "source": [
    "sensDf.sort(F.col('diffMilliseconds').desc()).show(10, False)"
   ]
  },
  {
   "cell_type": "code",
   "execution_count": 33,
   "metadata": {},
   "outputs": [],
   "source": [
    "%%spark -o sensDf"
   ]
  },
  {
   "cell_type": "code",
   "execution_count": 34,
   "metadata": {},
   "outputs": [
    {
     "name": "stderr",
     "output_type": "stream",
     "text": [
      "/srv/hops/anaconda/anaconda/envs/python36/lib/python3.6/site-packages/autovizwidget/widget/utils.py:50: FutureWarning:\n",
      "\n",
      "A future version of pandas will default to `skipna=True`. To silence this warning, pass `skipna=True|False` explicitly.\n",
      "\n"
     ]
    },
    {
     "data": {
      "application/vnd.jupyter.widget-view+json": {
       "model_id": "f7e7816c803f413289a57936b5578481",
       "version_major": 2,
       "version_minor": 0
      },
      "text/plain": [
       "VBox(children=(HBox(children=(HTML(value='Type:'), Button(description='Table', layout=Layout(width='70px'), st…"
      ]
     },
     "metadata": {},
     "output_type": "display_data"
    },
    {
     "data": {
      "application/vnd.jupyter.widget-view+json": {
       "model_id": "ff3de5e316fa4e96bb5607cd0701c3c2",
       "version_major": 2,
       "version_minor": 0
      },
      "text/plain": [
       "Output()"
      ]
     },
     "metadata": {},
     "output_type": "display_data"
    }
   ],
   "source": [
    "%%local\n",
    "sensDf"
   ]
  },
  {
   "cell_type": "code",
   "execution_count": null,
   "metadata": {},
   "outputs": [],
   "source": []
  }
 ],
 "metadata": {
  "kernelspec": {
   "display_name": "PySpark",
   "language": "",
   "name": "pysparkkernel"
  },
  "language_info": {
   "codemirror_mode": {
    "name": "python",
    "version": 2
   },
   "mimetype": "text/x-python",
   "name": "pyspark",
   "pygments_lexer": "python2"
  }
 },
 "nbformat": 4,
 "nbformat_minor": 2
}