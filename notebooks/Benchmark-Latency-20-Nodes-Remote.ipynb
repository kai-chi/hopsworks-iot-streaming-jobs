{
 "cells": [
  {
   "cell_type": "code",
   "execution_count": 1,
   "metadata": {},
   "outputs": [
    {
     "name": "stdout",
     "output_type": "stream",
     "text": [
      "Starting Spark application\n"
     ]
    },
    {
     "data": {
      "text/html": [
       "<table>\n",
       "<tr><th>ID</th><th>YARN Application ID</th><th>Kind</th><th>State</th><th>Spark UI</th><th>Driver log</th><th>Current session?</th></tr><tr><td>6</td><td>application_1559755371379_0021</td><td>pyspark</td><td>idle</td><td><a target=\"_blank\" href=\"http://hopsworks0.logicalclocks.com:8088/proxy/application_1559755371379_0021/\">Link</a></td><td><a target=\"_blank\" href=\"http://hopsworks0.logicalclocks.com:8042/node/containerlogs/container_e01_1559755371379_0021_01_000001/p1__meb10000\">Link</a></td><td>✔</td></tr></table>"
      ],
      "text/plain": [
       "<IPython.core.display.HTML object>"
      ]
     },
     "metadata": {},
     "output_type": "display_data"
    },
    {
     "name": "stdout",
     "output_type": "stream",
     "text": [
      "SparkSession available as 'spark'.\n",
      "<pyspark.sql.session.SparkSession object at 0x7f7633867ef0>"
     ]
    }
   ],
   "source": [
    "from hops import hdfs\n",
    "from pyspark.sql import functions as F\n",
    "from pyspark.sql import Window\n",
    "from pyspark.sql.types import LongType\n",
    "spark"
   ]
  },
  {
   "cell_type": "code",
   "execution_count": 2,
   "metadata": {},
   "outputs": [
    {
     "name": "stdout",
     "output_type": "stream",
     "text": [
      "3240"
     ]
    }
   ],
   "source": [
    "    df = spark \\\n",
    "        .read \\\n",
    "        .format(\"parquet\") \\\n",
    "        .load(hdfs.project_path() + \"Resources/iot-benchmarks/data/topic-lwm2m-3303-temperature\") \\\n",
    "        .filter(F.col('endpointClientName').contains('node-latency-rem-20'))\n",
    "\n",
    "    df.cache().count()"
   ]
  },
  {
   "cell_type": "code",
   "execution_count": 3,
   "metadata": {},
   "outputs": [
    {
     "name": "stdout",
     "output_type": "stream",
     "text": [
      "root\n",
      " |-- measurement: struct (nullable = true)\n",
      " |    |-- timestamp: long (nullable = false)\n",
      " |    |-- endpointClientName: string (nullable = false)\n",
      " |    |-- instanceId: integer (nullable = false)\n",
      " |    |-- gatewayName: string (nullable = false)\n",
      " |    |-- ipsoObject: struct (nullable = false)\n",
      " |    |    |-- sensorValue: double (nullable = false)\n",
      " |    |    |-- minMeasuredValue: double (nullable = true)\n",
      " |    |    |-- maxMeasuredValue: double (nullable = true)\n",
      " |    |    |-- minRangeValue: double (nullable = true)\n",
      " |    |    |-- maxRangeValue: double (nullable = true)\n",
      " |    |    |-- sensorUnits: string (nullable = true)\n",
      " |    |    |-- resetMinAndMaxMeasuredValues: boolean (nullable = true)\n",
      " |-- kafkaTimestamp: timestamp (nullable = true)\n",
      " |-- endpointClientName: string (nullable = true)"
     ]
    }
   ],
   "source": [
    "df.printSchema()"
   ]
  },
  {
   "cell_type": "code",
   "execution_count": 4,
   "metadata": {},
   "outputs": [],
   "source": [
    "timeFmt = \"yyyy-MM-dd HH:mm:ss.SSS\"\n",
    "sensDf = df \\\n",
    "    .select(F.to_timestamp(F.col('measurement.timestamp')/1000).alias('measurementTmp'), \\\n",
    "            'kafkaTimestamp', \\\n",
    "            (F.col('measurement.timestamp')).alias('measurementTmpLong'), \\\n",
    "            'endpointClientName') \\\n",
    "    .withColumn('kafkaTmpLong', F.substring_index('kafkaTimestamp', '.', -1).cast('float')) \\\n",
    "    .withColumn('kafkaTmpLong', F.when(F.col('kafkaTmpLong') < 10, F.col('kafkaTmpLong')*100).otherwise(F.col('kafkaTmpLong')).cast('long')) \\\n",
    "    .withColumn('kafkaTmpLong', F.when(F.col('kafkaTmpLong') < 100, F.col('kafkaTmpLong')*10).otherwise(F.col('kafkaTmpLong')).cast('long')) \\\n",
    "    .withColumn('kafkaTmpLong', (F.unix_timestamp('kafkaTimestamp', format=timeFmt)*1000 + F.col('kafkaTmpLong'))) \\\n",
    "    .withColumn(\"diffMilliseconds\", (F.col('kafkaTmpLong') - F.col('measurementTmpLong')))\n",
    "    "
   ]
  },
  {
   "cell_type": "code",
   "execution_count": 5,
   "metadata": {},
   "outputs": [
    {
     "name": "stdout",
     "output_type": "stream",
     "text": [
      "+-----------------------+-----------------------+------------------+---------------------+-------------+----------------+\n",
      "|measurementTmp         |kafkaTimestamp         |measurementTmpLong|endpointClientName   |kafkaTmpLong |diffMilliseconds|\n",
      "+-----------------------+-----------------------+------------------+---------------------+-------------+----------------+\n",
      "|2019-06-12 16:28:30.573|2019-06-12 16:28:33.341|1560356910573     |node-latency-rem-20-4|1560356913341|2768            |\n",
      "|2019-06-12 16:28:32.573|2019-06-12 16:28:34.883|1560356912573     |node-latency-rem-20-4|1560356914883|2310            |\n",
      "|2019-06-12 16:28:34.577|2019-06-12 16:28:36.333|1560356914577     |node-latency-rem-20-4|1560356916333|1756            |\n",
      "|2019-06-12 16:28:36.573|2019-06-12 16:28:37.549|1560356916573     |node-latency-rem-20-4|1560356917549|976             |\n",
      "|2019-06-12 16:28:38.572|2019-06-12 16:28:38.845|1560356918572     |node-latency-rem-20-4|1560356918845|273             |\n",
      "+-----------------------+-----------------------+------------------+---------------------+-------------+----------------+\n",
      "only showing top 5 rows"
     ]
    }
   ],
   "source": [
    "sensDf.show(5, False)"
   ]
  },
  {
   "cell_type": "code",
   "execution_count": 6,
   "metadata": {},
   "outputs": [
    {
     "name": "stdout",
     "output_type": "stream",
     "text": [
      "root\n",
      " |-- measurementTmp: timestamp (nullable = true)\n",
      " |-- kafkaTimestamp: timestamp (nullable = true)\n",
      " |-- measurementTmpLong: long (nullable = true)\n",
      " |-- endpointClientName: string (nullable = true)\n",
      " |-- kafkaTmpLong: long (nullable = true)\n",
      " |-- diffMilliseconds: long (nullable = true)"
     ]
    }
   ],
   "source": [
    "sensDf.printSchema()"
   ]
  },
  {
   "cell_type": "code",
   "execution_count": 7,
   "metadata": {},
   "outputs": [
    {
     "name": "stdout",
     "output_type": "stream",
     "text": [
      "+---------------------+\n",
      "|avg(diffMilliseconds)|\n",
      "+---------------------+\n",
      "|    94.64012345679012|\n",
      "+---------------------+"
     ]
    }
   ],
   "source": [
    "sensDf.agg(F.avg(F.col('diffMilliseconds'))).show()"
   ]
  },
  {
   "cell_type": "code",
   "execution_count": 8,
   "metadata": {},
   "outputs": [
    {
     "name": "stdout",
     "output_type": "stream",
     "text": [
      "+-----------------------+-----------------------+------------------+----------------------+-------------+----------------+\n",
      "|measurementTmp         |kafkaTimestamp         |measurementTmpLong|endpointClientName    |kafkaTmpLong |diffMilliseconds|\n",
      "+-----------------------+-----------------------+------------------+----------------------+-------------+----------------+\n",
      "|2019-06-12 16:28:27.77 |2019-06-12 16:28:31.699|1560356907770     |node-latency-rem-20-2 |1560356911699|3929            |\n",
      "|2019-06-12 16:28:27.89 |2019-06-12 16:28:31.697|1560356907890     |node-latency-rem-20-1 |1560356911697|3807            |\n",
      "|2019-06-12 16:28:28.274|2019-06-12 16:28:31.698|1560356908274     |node-latency-rem-20-3 |1560356911698|3424            |\n",
      "|2019-06-12 16:28:31.588|2019-06-12 16:28:34.085|1560356911588     |node-latency-rem-20-6 |1560356914850|3262            |\n",
      "|2019-06-12 16:28:31.543|2019-06-12 16:28:34.068|1560356911543     |node-latency-rem-20-14|1560356914680|3137            |\n",
      "|2019-06-12 16:28:28.575|2019-06-12 16:28:31.699|1560356908575     |node-latency-rem-20-4 |1560356911699|3124            |\n",
      "|2019-06-12 16:28:29.821|2019-06-12 16:28:32.809|1560356909821     |node-latency-rem-20-9 |1560356912809|2988            |\n",
      "|2019-06-12 16:28:28.939|2019-06-12 16:28:31.906|1560356908939     |node-latency-rem-20-5 |1560356911906|2967            |\n",
      "|2019-06-12 16:28:29.592|2019-06-12 16:28:32.521|1560356909592     |node-latency-rem-20-6 |1560356912521|2929            |\n",
      "|2019-06-12 16:28:29.895|2019-06-12 16:28:32.809|1560356909895     |node-latency-rem-20-1 |1560356912809|2914            |\n",
      "+-----------------------+-----------------------+------------------+----------------------+-------------+----------------+\n",
      "only showing top 10 rows"
     ]
    }
   ],
   "source": [
    "sensDf.sort(F.col('diffMilliseconds').desc()).show(10, False)"
   ]
  },
  {
   "cell_type": "code",
   "execution_count": 9,
   "metadata": {},
   "outputs": [],
   "source": [
    "%%spark -o sensDf"
   ]
  },
  {
   "cell_type": "code",
   "execution_count": 10,
   "metadata": {},
   "outputs": [
    {
     "name": "stderr",
     "output_type": "stream",
     "text": [
      "/srv/hops/anaconda/anaconda/envs/python36/lib/python3.6/site-packages/autovizwidget/widget/utils.py:50: FutureWarning:\n",
      "\n",
      "A future version of pandas will default to `skipna=True`. To silence this warning, pass `skipna=True|False` explicitly.\n",
      "\n"
     ]
    },
    {
     "data": {
      "application/vnd.jupyter.widget-view+json": {
       "model_id": "7bd85c12c8e04d8b886049a273eca779",
       "version_major": 2,
       "version_minor": 0
      },
      "text/plain": [
       "VBox(children=(HBox(children=(HTML(value='Type:'), Button(description='Table', layout=Layout(width='70px'), st…"
      ]
     },
     "metadata": {},
     "output_type": "display_data"
    },
    {
     "data": {
      "application/vnd.jupyter.widget-view+json": {
       "model_id": "9d5f155e04fe49bc8821469f33801095",
       "version_major": 2,
       "version_minor": 0
      },
      "text/plain": [
       "Output()"
      ]
     },
     "metadata": {},
     "output_type": "display_data"
    }
   ],
   "source": [
    "%%local\n",
    "sensDf"
   ]
  },
  {
   "cell_type": "code",
   "execution_count": null,
   "metadata": {},
   "outputs": [],
   "source": []
  }
 ],
 "metadata": {
  "kernelspec": {
   "display_name": "PySpark",
   "language": "",
   "name": "pysparkkernel"
  },
  "language_info": {
   "codemirror_mode": {
    "name": "python",
    "version": 2
   },
   "mimetype": "text/x-python",
   "name": "pyspark",
   "pygments_lexer": "python2"
  }
 },
 "nbformat": 4,
 "nbformat_minor": 2
}
