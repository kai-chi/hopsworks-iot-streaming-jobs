{
 "cells": [
  {
   "cell_type": "code",
   "execution_count": 3,
   "metadata": {},
   "outputs": [
    {
     "name": "stdout",
     "output_type": "stream",
     "text": [
      "<pyspark.sql.session.SparkSession object at 0x7f4862e34f60>"
     ]
    }
   ],
   "source": [
    "from hops import hdfs\n",
    "from pyspark.sql import functions as F\n",
    "from pyspark.sql import Window\n",
    "from pyspark.sql.types import LongType\n",
    "spark"
   ]
  },
  {
   "cell_type": "code",
   "execution_count": 4,
   "metadata": {},
   "outputs": [
    {
     "name": "stdout",
     "output_type": "stream",
     "text": [
      "1182"
     ]
    }
   ],
   "source": [
    "    df = spark \\\n",
    "        .read \\\n",
    "        .format(\"parquet\") \\\n",
    "        .load(hdfs.project_path() + \"Resources/iot-benchmarks/data/topic-lwm2m-3303-temperature\") \\\n",
    "        .filter(F.col('endpointClientName')=='node-latency-rem-0-1')\n",
    "\n",
    "    df.cache().count()"
   ]
  },
  {
   "cell_type": "code",
   "execution_count": 5,
   "metadata": {},
   "outputs": [
    {
     "name": "stdout",
     "output_type": "stream",
     "text": [
      "root\n",
      " |-- measurement: struct (nullable = true)\n",
      " |    |-- timestamp: long (nullable = false)\n",
      " |    |-- endpointClientName: string (nullable = false)\n",
      " |    |-- instanceId: integer (nullable = false)\n",
      " |    |-- gatewayId: integer (nullable = false)\n",
      " |    |-- ipsoObject: struct (nullable = false)\n",
      " |    |    |-- sensorValue: double (nullable = false)\n",
      " |    |    |-- minMeasuredValue: double (nullable = true)\n",
      " |    |    |-- maxMeasuredValue: double (nullable = true)\n",
      " |    |    |-- minRangeValue: double (nullable = true)\n",
      " |    |    |-- maxRangeValue: double (nullable = true)\n",
      " |    |    |-- sensorUnits: string (nullable = true)\n",
      " |    |    |-- resetMinAndMaxMeasuredValues: boolean (nullable = true)\n",
      " |-- kafkaTimestamp: timestamp (nullable = true)\n",
      " |-- endpointClientName: string (nullable = true)"
     ]
    }
   ],
   "source": [
    "df.printSchema()"
   ]
  },
  {
   "cell_type": "code",
   "execution_count": 6,
   "metadata": {},
   "outputs": [],
   "source": [
    "timeFmt = \"yyyy-MM-dd HH:mm:ss.SSS\"\n",
    "sensDf = df \\\n",
    "    .select(F.to_timestamp(F.col('measurement.timestamp')/1000).alias('measurementTmp'), \\\n",
    "            'kafkaTimestamp', \\\n",
    "            (F.col('measurement.timestamp')).alias('measurementTmpLong'), \\\n",
    "            'endpointClientName') \\\n",
    "    .withColumn('kafkaTmpLong', F.substring_index('kafkaTimestamp', '.', -1).cast('float')) \\\n",
    "    .withColumn('kafkaTmpLong', F.when(F.col('kafkaTmpLong') < 100, F.col('kafkaTmpLong')*10).otherwise(F.col('kafkaTmpLong')).cast('long')) \\\n",
    "    .withColumn('kafkaTmpLong', (F.unix_timestamp('kafkaTimestamp', format=timeFmt)*1000 + F.col('kafkaTmpLong'))) \\\n",
    "    .withColumn(\"diffMilliseconds\", (F.col('kafkaTmpLong') - F.col('measurementTmpLong')))\n",
    "    "
   ]
  },
  {
   "cell_type": "code",
   "execution_count": 7,
   "metadata": {},
   "outputs": [
    {
     "name": "stdout",
     "output_type": "stream",
     "text": [
      "+-----------------------+-----------------------+------------------+--------------------+-------------+----------------+\n",
      "|measurementTmp         |kafkaTimestamp         |measurementTmpLong|endpointClientName  |kafkaTmpLong |diffMilliseconds|\n",
      "+-----------------------+-----------------------+------------------+--------------------+-------------+----------------+\n",
      "|2019-06-06 10:52:21.77 |2019-06-06 10:52:22.783|1559818341770     |node-latency-rem-0-1|1559818342783|1013            |\n",
      "|2019-06-06 10:52:23.762|2019-06-06 10:52:23.779|1559818343762     |node-latency-rem-0-1|1559818343779|17              |\n",
      "|2019-06-06 10:52:25.761|2019-06-06 10:52:25.782|1559818345761     |node-latency-rem-0-1|1559818345782|21              |\n",
      "|2019-06-06 10:52:27.762|2019-06-06 10:52:27.775|1559818347762     |node-latency-rem-0-1|1559818347775|13              |\n",
      "|2019-06-06 10:52:29.762|2019-06-06 10:52:29.776|1559818349762     |node-latency-rem-0-1|1559818349776|14              |\n",
      "+-----------------------+-----------------------+------------------+--------------------+-------------+----------------+\n",
      "only showing top 5 rows"
     ]
    }
   ],
   "source": [
    "sensDf.show(5, False)"
   ]
  },
  {
   "cell_type": "code",
   "execution_count": 8,
   "metadata": {},
   "outputs": [
    {
     "name": "stdout",
     "output_type": "stream",
     "text": [
      "root\n",
      " |-- measurementTmp: timestamp (nullable = true)\n",
      " |-- kafkaTimestamp: timestamp (nullable = true)\n",
      " |-- measurementTmpLong: long (nullable = true)\n",
      " |-- endpointClientName: string (nullable = true)\n",
      " |-- kafkaTmpLong: long (nullable = true)\n",
      " |-- diffMilliseconds: long (nullable = true)"
     ]
    }
   ],
   "source": [
    "sensDf.printSchema()"
   ]
  },
  {
   "cell_type": "code",
   "execution_count": 9,
   "metadata": {},
   "outputs": [
    {
     "name": "stdout",
     "output_type": "stream",
     "text": [
      "+---------------------+\n",
      "|avg(diffMilliseconds)|\n",
      "+---------------------+\n",
      "|   15.094754653130288|\n",
      "+---------------------+"
     ]
    }
   ],
   "source": [
    "sensDf.agg(F.avg(F.col('diffMilliseconds'))).show()"
   ]
  },
  {
   "cell_type": "code",
   "execution_count": 10,
   "metadata": {},
   "outputs": [
    {
     "name": "stdout",
     "output_type": "stream",
     "text": [
      "+-----------------------+-----------------------+------------------+--------------------+-------------+----------------+\n",
      "|measurementTmp         |kafkaTimestamp         |measurementTmpLong|endpointClientName  |kafkaTmpLong |diffMilliseconds|\n",
      "+-----------------------+-----------------------+------------------+--------------------+-------------+----------------+\n",
      "|2019-06-06 10:52:21.77 |2019-06-06 10:52:22.783|1559818341770     |node-latency-rem-0-1|1559818342783|1013            |\n",
      "|2019-06-06 10:53:11.761|2019-06-06 10:53:11.789|1559818391761     |node-latency-rem-0-1|1559818391789|28              |\n",
      "|2019-06-06 11:05:51.76 |2019-06-06 11:05:51.782|1559819151760     |node-latency-rem-0-1|1559819151782|22              |\n",
      "|2019-06-06 10:54:05.763|2019-06-06 10:54:05.785|1559818445763     |node-latency-rem-0-1|1559818445785|22              |\n",
      "|2019-06-06 10:54:29.761|2019-06-06 10:54:29.783|1559818469761     |node-latency-rem-0-1|1559818469783|22              |\n",
      "|2019-06-06 11:26:45.76 |2019-06-06 11:26:45.782|1559820405760     |node-latency-rem-0-1|1559820405782|22              |\n",
      "|2019-06-06 11:20:51.76 |2019-06-06 11:20:51.781|1559820051760     |node-latency-rem-0-1|1559820051781|21              |\n",
      "|2019-06-06 10:52:25.761|2019-06-06 10:52:25.782|1559818345761     |node-latency-rem-0-1|1559818345782|21              |\n",
      "|2019-06-06 11:25:59.76 |2019-06-06 11:25:59.78 |1559820359760     |node-latency-rem-0-1|1559820359780|20              |\n",
      "|2019-06-06 11:18:25.76 |2019-06-06 11:18:25.78 |1559819905760     |node-latency-rem-0-1|1559819905780|20              |\n",
      "+-----------------------+-----------------------+------------------+--------------------+-------------+----------------+\n",
      "only showing top 10 rows"
     ]
    }
   ],
   "source": [
    "sensDf.sort(F.col('diffMilliseconds').desc()).show(10, False)"
   ]
  },
  {
   "cell_type": "code",
   "execution_count": 11,
   "metadata": {},
   "outputs": [
    {
     "name": "stdout",
     "output_type": "stream",
     "text": [
      "1181"
     ]
    }
   ],
   "source": [
    "sensDf = sensDf.where(F.col('diffMilliseconds') < 1000)\n",
    "sensDf.count()"
   ]
  },
  {
   "cell_type": "code",
   "execution_count": 12,
   "metadata": {},
   "outputs": [],
   "source": [
    "%%spark -o sensDf"
   ]
  },
  {
   "cell_type": "code",
   "execution_count": 15,
   "metadata": {},
   "outputs": [
    {
     "name": "stderr",
     "output_type": "stream",
     "text": [
      "/srv/hops/anaconda/anaconda/envs/python36/lib/python3.6/site-packages/autovizwidget/widget/utils.py:50: FutureWarning:\n",
      "\n",
      "A future version of pandas will default to `skipna=True`. To silence this warning, pass `skipna=True|False` explicitly.\n",
      "\n"
     ]
    },
    {
     "data": {
      "application/vnd.jupyter.widget-view+json": {
       "model_id": "6f014c5b7065463db00a6ea11de54270",
       "version_major": 2,
       "version_minor": 0
      },
      "text/plain": [
       "VBox(children=(HBox(children=(HTML(value='Type:'), Button(description='Table', layout=Layout(width='70px'), st…"
      ]
     },
     "metadata": {},
     "output_type": "display_data"
    },
    {
     "data": {
      "application/vnd.jupyter.widget-view+json": {
       "model_id": "1d84632fb490437f9cef493025d5ddcd",
       "version_major": 2,
       "version_minor": 0
      },
      "text/plain": [
       "Output()"
      ]
     },
     "metadata": {},
     "output_type": "display_data"
    }
   ],
   "source": [
    "%%local\n",
    "sensDf"
   ]
  },
  {
   "cell_type": "code",
   "execution_count": null,
   "metadata": {},
   "outputs": [],
   "source": []
  }
 ],
 "metadata": {
  "kernelspec": {
   "display_name": "PySpark",
   "language": "",
   "name": "pysparkkernel"
  },
  "language_info": {
   "codemirror_mode": {
    "name": "python",
    "version": 2
   },
   "mimetype": "text/x-python",
   "name": "pyspark",
   "pygments_lexer": "python2"
  }
 },
 "nbformat": 4,
 "nbformat_minor": 2
}